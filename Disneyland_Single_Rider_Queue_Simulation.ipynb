{
  "cells": [
    {
      "cell_type": "markdown",
      "metadata": {
        "id": "zyq4gdaCWko6"
      },
      "source": [
        "## Project Objective\n",
        "\n",
        "In this project, I examine the single rider line at Tiana's Bayou Adventure (fomerly known as Splash Mountain) at Disneyland in Anaheim, California. I create a model to estimate the waiting time in the single rider line for any given queue length (number of guests in the queue).\n"
      ]
    },
    {
      "cell_type": "markdown",
      "metadata": {
        "id": "Uc8I1CvSWoow"
      },
      "source": [
        "## Queues Types at Disneyland\n",
        "\n",
        "Attractions at Disneyland frequently have multiple queues that guests may enter to wait for their turn to ride an attraction. These include a standby line, a lightning lane, and a single rider line.\n",
        "\n",
        "### Standby line\n",
        "* Open to anyone who has been admitted to the park.\n",
        "* Generally the longest wait out of the three lines.\n",
        "* Parties that enter the line together are usually able to ride the attraction seated together.\n",
        "\n",
        "### Lighting lane\n",
        "* Requires guests to make a reservation.\n",
        "* Guests pay a fee for the ability to make reservations using the Disnetland mobile app.\n",
        "\n",
        "### Single Rider Line\n",
        "* Does not require a reservation.\n",
        "* Each guest in the line is treated as a single party.\n",
        "* Parties that enter the line together are usually not able ride the attraction seated together.\n",
        "* The purpose of this line is to fill empty seats that cannot be filled by the stanby line or lighting lane due to the size of the parties not fitting in the remaining seats.\n",
        "* Often a much shorter wait than the standby line."
      ]
    },
    {
      "cell_type": "markdown",
      "metadata": {
        "id": "hOXR8EHIWr4p"
      },
      "source": [
        "## Motivation\n",
        "\n",
        "Disneyland guests can access estimated wait times in real time for almost every attraction using the Dinsleyland mobile app. However, the app only displays the waiting time for the standby line and lightning lane but not the single rider line.\n",
        "\n",
        "While waiting in the single rider line at Tiana's Bayou Adventure, I observed that the wait time is dependent on the liklihood that a space for a guest in the single rider line will become available. At this attaction, each log (vehicle that guests sit in) seats up to 6 people. The Disneyland cast members responsible for directing guests to seats primarily use the standby line and lightning lane to fill these seats. Guests in the single rider line are only able to board a log when there are open seat remaining. For example, if there is a party of 2 followed by a party of 3, there will be one seat remaining in the log. The cast member will direct a guest in the single rider line to fill this seat. On the contary, if there is a party of 2 followed by a party of 4, there will not be seats remaining and the guest next in line in the single rider queue will not be able to board.\n",
        "\n",
        "Another factor that I oberved is that cast members do not immediately resort to the single rider line to fill open seats if the next party in the standby line or lightning lane does not fit into the remaining seats. Instead, they search several postions back in the line for a party that will fit.  For example, if there are three seats remaining, they search for a party of three in the standby line or lightning line by calling out \"party of three\" and waiting briefly for a party to respond and come forward. If there are no responses, only then are the remaining seats able to be boarded by guests in the single rider line.\n",
        "\n",
        "Excited by a challenge, I wanted to model this dynamic and test whether I can create accurate estimates on the waiting times in the single rider queue at Tiana's Bayou Adventure that can be generalized for other Disneyland attractions.\n"
      ]
    },
    {
      "cell_type": "markdown",
      "metadata": {
        "id": "_UXAlSMZWxak"
      },
      "source": [
        "## Assumptions\n",
        "\n",
        "### Party Sizes\n",
        "* Party sizes in the standby line can be any integer between 1 and 6.\n",
        "* While it is possible that parties large than 6 will enter the line, I treat these as seperate parties that can broken up into parties smaller than 6.\n",
        "\n",
        "### Party Size Probability\n",
        "* For the wait time to be accurate, I need accurate measurements of the probabilties for each party size in the standby line.\n",
        "* This data can be obtained from sampling party sizes that enter the standby line. However, I have not returned to the park since starting this project and have not yet attempted to collect this data. For now, I estimate the probability of various party sizes in the standby line.\n",
        "* Observe below that a party of 1 is unlikely since any party of 1 can acheive a shorter wait time if they enter the single rider line without bearing the drawback of not riding with the rest of their party. Parties of 2 are very common since it is ideal for couples or friends. Parties of 3 and 4 are extremely frequent for families with one or two kids. Parties of 5 and 6 are less common but still occur.\n",
        "\n",
        "### Call Out Policy\n",
        "\n",
        "* I refer to policy of calling out for a certain size party to fill remaining seats as the \"call out policy.\" The maxiumum number of parties that can hear the call out and feasibly reach the front of the line will represented by the variable called \"policy.\" For this project, I set this number at 5. This can be easily adjusted as needed.\n",
        "\n",
        "### Ride Capacity\n",
        "\n",
        "* The ride capacity for Tiana's Bayou Adventure is 6. This can be adjusted to match other attractions."
      ]
    },
    {
      "cell_type": "code",
      "execution_count": null,
      "metadata": {
        "id": "qkDkRSfHW0mp"
      },
      "outputs": [],
      "source": [
        "import numpy as np\n",
        "import pandas as pd\n",
        "\n",
        "party_sizes = [1, 2, 3, 4, 5, 6]\n",
        "probabilties = [0.01, 0.24, 0.25, 0.3, 0.1, 0.1]\n",
        "data = pd.DataFrame({ \"Party Size\": party_sizes, \"Probability\": probabilties })\n",
        "data\n",
        "\n",
        "policy = 5 #The maxiumum number of parties that can hear the call out and feasibly reach the front of the line\n",
        "ride_capacity = 6 #The ride capacity for Tiana's Bayou Adventure is 6. This can be adjusted to match other attractions."
      ]
    },
    {
      "cell_type": "markdown",
      "metadata": {
        "id": "5wx17As3W3KP"
      },
      "source": [
        "## Random Number Generation\n",
        "\n",
        "The partysize() function generates a single random number between 1 and 6 based on the given probabilties above."
      ]
    },
    {
      "cell_type": "code",
      "execution_count": null,
      "metadata": {
        "id": "_of0jry1W5jQ"
      },
      "outputs": [],
      "source": [
        "def partysize():\n",
        "    partysize = np.random.choice(data['Party Size'], p=data['Probability'])\n",
        "    return partysize"
      ]
    },
    {
      "cell_type": "markdown",
      "metadata": {
        "id": "y_dmYuiPW7K6"
      },
      "source": [
        "## Fill Ride Function\n",
        "\n",
        "The fill_ride() function:\n",
        "1. Intializes the number of open seats in the ride as the maximum capacity the ride holds.\n",
        "2. Creates a list of random numbers using the partysize() function where the lenth is the value given as the call-out policy.\n",
        "3. The for loop looks at the next party in line and assigns them a seat. The loop then looks at the second party line and assigns them a seat if they fit. This continues up to the call-out policy amount. If there are no open seats remaining, the loop breaks instead of checking if the next parties can fit in the ride. This saves compute time since this function will be run a large number of times.\n",
        "4. The function returns the amount of open seats remaining after the maximum number of parties allowed in the call out policy have been seated or attempted to be seated. The value returned is the number of open seats that will be filled by guests from the single rider queue."
      ]
    },
    {
      "cell_type": "code",
      "execution_count": null,
      "metadata": {
        "id": "rsNlV9GmW9_4"
      },
      "outputs": [],
      "source": [
        "def fill_ride():\n",
        "    open_seats = ride_capacity\n",
        "    next_parties = [partysize() for i in range(policy)]\n",
        "\n",
        "    for i in range(policy):\n",
        "        if open_seats == 0:\n",
        "            break\n",
        "        if open_seats >= next_parties[i]:\n",
        "            open_seats = open_seats - next_parties[i]\n",
        "\n",
        "    return open_seats"
      ]
    },
    {
      "cell_type": "markdown",
      "metadata": {
        "id": "2Q_9Mm6jW_vT"
      },
      "source": [
        "To demonstrate how the above function works, I create an alternative version that takes a list as an argument instead of generating this list within the function. The function returns the number of open seats remaining as did the orginal function."
      ]
    },
    {
      "cell_type": "code",
      "execution_count": null,
      "metadata": {
        "id": "xQvozcJ2XBlW"
      },
      "outputs": [],
      "source": [
        "def fill_ride_test(next_parties_list):\n",
        "    open_seats = ride_capacity\n",
        "    next_parties = next_parties_list\n",
        "\n",
        "    for i in range(policy):\n",
        "        if open_seats == 0:\n",
        "            break\n",
        "        if open_seats >= next_parties[i]:\n",
        "            open_seats = open_seats - next_parties[i]\n",
        "\n",
        "    return open_seats"
      ]
    },
    {
      "cell_type": "markdown",
      "metadata": {
        "id": "p23vTDuZXDTS"
      },
      "source": [
        "Observe that in the following example, the first party takes up four seats. The rest of the parties are all larger than two and thus cannot be fit into the remaining two seats. Thus, the function returns the value 2 since there are two seats that will be filled by guests in the single rider line."
      ]
    },
    {
      "cell_type": "code",
      "execution_count": null,
      "metadata": {
        "colab": {
          "base_uri": "https://localhost:8080/"
        },
        "id": "MY91hbVlXJLO",
        "outputId": "1d90ad03-cc95-4c8c-f8cf-a5e82e02d0b3"
      },
      "outputs": [
        {
          "data": {
            "text/plain": [
              "2"
            ]
          },
          "execution_count": 6,
          "metadata": {},
          "output_type": "execute_result"
        }
      ],
      "source": [
        "fill_ride_test([4, 4, 3, 3, 3])"
      ]
    },
    {
      "cell_type": "markdown",
      "metadata": {
        "id": "wYYU5anKXLBn"
      },
      "source": [
        "Observe that in the following example, there are zero open seats remaining since the first party takes up two seats and the remaining four seats are filled by the next party. The function returns zero since there will be zero guests from the single rider line used to fill the log."
      ]
    },
    {
      "cell_type": "code",
      "execution_count": null,
      "metadata": {
        "colab": {
          "base_uri": "https://localhost:8080/"
        },
        "id": "XOQtX4IDXMm1",
        "outputId": "97c73ea7-4735-487b-e3b3-479309bf1753"
      },
      "outputs": [
        {
          "data": {
            "text/plain": [
              "0"
            ]
          },
          "execution_count": 7,
          "metadata": {},
          "output_type": "execute_result"
        }
      ],
      "source": [
        "fill_ride_test([2, 4, 3, 5, 3])"
      ]
    },
    {
      "cell_type": "markdown",
      "metadata": {
        "id": "wfIrOurOXPvq"
      },
      "source": [
        "Below are some other possible scenarios and the corresponding number of open seats remaining:"
      ]
    },
    {
      "cell_type": "code",
      "execution_count": null,
      "metadata": {
        "colab": {
          "base_uri": "https://localhost:8080/"
        },
        "id": "BNImX7HnXRD2",
        "outputId": "de2ec215-3670-49be-ca7a-9244c0552588"
      },
      "outputs": [
        {
          "data": {
            "text/plain": [
              "1"
            ]
          },
          "execution_count": 8,
          "metadata": {},
          "output_type": "execute_result"
        }
      ],
      "source": [
        "fill_ride_test([2, 3, 3, 5, 2])"
      ]
    },
    {
      "cell_type": "code",
      "execution_count": null,
      "metadata": {
        "colab": {
          "base_uri": "https://localhost:8080/"
        },
        "id": "pwpHdDhxXSnV",
        "outputId": "d26ecb14-6590-4cf8-f583-e078a3bf9f16"
      },
      "outputs": [
        {
          "data": {
            "text/plain": [
              "0"
            ]
          },
          "execution_count": 9,
          "metadata": {},
          "output_type": "execute_result"
        }
      ],
      "source": [
        "fill_ride_test([4, 3, 3, 5, 2])"
      ]
    },
    {
      "cell_type": "code",
      "execution_count": null,
      "metadata": {
        "colab": {
          "base_uri": "https://localhost:8080/"
        },
        "id": "-pxHsf-7XU6B",
        "outputId": "b8feffb1-d36a-4ddc-b40d-d350360d3659"
      },
      "outputs": [
        {
          "data": {
            "text/plain": [
              "3"
            ]
          },
          "execution_count": 10,
          "metadata": {},
          "output_type": "execute_result"
        }
      ],
      "source": [
        "fill_ride_test([3, 4, 6, 5, 4])"
      ]
    },
    {
      "cell_type": "markdown",
      "metadata": {
        "id": "XPIppgfMXYRX"
      },
      "source": [
        "## Simulation\n",
        "\n",
        "An instance of the fill_ride() function being called represents one attempt to fill a single log by using the next 5 parties in line and resorting to the single rider queue whenever there are open seats remaining. In some cases, there may be one or several open seats left to be filled by guests from the single rider queue. In other cases, there will be zero.\n",
        "\n",
        "To determine the expected number of guests from the single rider queue that will be used on each log, I run the function one million times and compute the average.\n",
        "\n",
        "Using this number and an estimate on the number of logs dispatched per minute, I can estimate the wait time for the single rider line for any given single rider queue length (number of guests in the single rider queue)."
      ]
    },
    {
      "cell_type": "code",
      "execution_count": null,
      "metadata": {
        "colab": {
          "base_uri": "https://localhost:8080/"
        },
        "id": "KyepbuzLXexH",
        "outputId": "3c40718e-4900-41fc-c707-ee1b5c1ff21a"
      },
      "outputs": [
        {
          "data": {
            "text/plain": [
              "np.float64(0.608393)"
            ]
          },
          "execution_count": 11,
          "metadata": {},
          "output_type": "execute_result"
        }
      ],
      "source": [
        "num_trials = 1000000\n",
        "total_single_riders = sum(fill_ride() for i in range(num_trials))\n",
        "\n",
        "average = total_single_riders / num_trials\n",
        "average"
      ]
    },
    {
      "cell_type": "markdown",
      "metadata": {
        "id": "h-28s5YPXjC0"
      },
      "source": [
        "## Convergence Test\n",
        "\n",
        "I run the previous simulation 5 times to show that there is minimal variation (less than 0.01) in the result between simulations. I use the average result of these 5 simulations when computing the throughput (processing rate) of the single rider line."
      ]
    },
    {
      "cell_type": "code",
      "execution_count": null,
      "metadata": {
        "colab": {
          "background_save": true
        },
        "id": "5CruK6LvXpeh",
        "outputId": "cf04a7c4-26d0-4991-932a-05161c60f2a8"
      },
      "outputs": [
        {
          "data": {
            "application/vnd.google.colaboratory.intrinsic+json": {
              "summary": "{\n  \"name\": \"result\",\n  \"rows\": 5,\n  \"fields\": [\n    {\n      \"column\": \"Test #\",\n      \"properties\": {\n        \"dtype\": \"number\",\n        \"std\": 1,\n        \"min\": 1,\n        \"max\": 5,\n        \"num_unique_values\": 5,\n        \"samples\": [\n          2,\n          5,\n          3\n        ],\n        \"semantic_type\": \"\",\n        \"description\": \"\"\n      }\n    },\n    {\n      \"column\": \"Average\",\n      \"properties\": {\n        \"dtype\": \"number\",\n        \"std\": 0.000621590862223696,\n        \"min\": 0.607627,\n        \"max\": 0.609055,\n        \"num_unique_values\": 5,\n        \"samples\": [\n          0.608622,\n          0.608843,\n          0.607627\n        ],\n        \"semantic_type\": \"\",\n        \"description\": \"\"\n      }\n    }\n  ]\n}",
              "type": "dataframe",
              "variable_name": "result"
            },
            "text/html": [
              "\n",
              "  <div id=\"df-e61f992b-274b-4461-b5a0-61df4c09786b\" class=\"colab-df-container\">\n",
              "    <div>\n",
              "<style scoped>\n",
              "    .dataframe tbody tr th:only-of-type {\n",
              "        vertical-align: middle;\n",
              "    }\n",
              "\n",
              "    .dataframe tbody tr th {\n",
              "        vertical-align: top;\n",
              "    }\n",
              "\n",
              "    .dataframe thead th {\n",
              "        text-align: right;\n",
              "    }\n",
              "</style>\n",
              "<table border=\"1\" class=\"dataframe\">\n",
              "  <thead>\n",
              "    <tr style=\"text-align: right;\">\n",
              "      <th></th>\n",
              "      <th>Test #</th>\n",
              "      <th>Average</th>\n",
              "    </tr>\n",
              "  </thead>\n",
              "  <tbody>\n",
              "    <tr>\n",
              "      <th>0</th>\n",
              "      <td>1</td>\n",
              "      <td>0.609055</td>\n",
              "    </tr>\n",
              "    <tr>\n",
              "      <th>1</th>\n",
              "      <td>2</td>\n",
              "      <td>0.608622</td>\n",
              "    </tr>\n",
              "    <tr>\n",
              "      <th>2</th>\n",
              "      <td>3</td>\n",
              "      <td>0.607627</td>\n",
              "    </tr>\n",
              "    <tr>\n",
              "      <th>3</th>\n",
              "      <td>4</td>\n",
              "      <td>0.607877</td>\n",
              "    </tr>\n",
              "    <tr>\n",
              "      <th>4</th>\n",
              "      <td>5</td>\n",
              "      <td>0.608843</td>\n",
              "    </tr>\n",
              "  </tbody>\n",
              "</table>\n",
              "</div>\n",
              "    <div class=\"colab-df-buttons\">\n",
              "\n",
              "  <div class=\"colab-df-container\">\n",
              "    <button class=\"colab-df-convert\" onclick=\"convertToInteractive('df-e61f992b-274b-4461-b5a0-61df4c09786b')\"\n",
              "            title=\"Convert this dataframe to an interactive table.\"\n",
              "            style=\"display:none;\">\n",
              "\n",
              "  <svg xmlns=\"http://www.w3.org/2000/svg\" height=\"24px\" viewBox=\"0 -960 960 960\">\n",
              "    <path d=\"M120-120v-720h720v720H120Zm60-500h600v-160H180v160Zm220 220h160v-160H400v160Zm0 220h160v-160H400v160ZM180-400h160v-160H180v160Zm440 0h160v-160H620v160ZM180-180h160v-160H180v160Zm440 0h160v-160H620v160Z\"/>\n",
              "  </svg>\n",
              "    </button>\n",
              "\n",
              "  <style>\n",
              "    .colab-df-container {\n",
              "      display:flex;\n",
              "      gap: 12px;\n",
              "    }\n",
              "\n",
              "    .colab-df-convert {\n",
              "      background-color: #E8F0FE;\n",
              "      border: none;\n",
              "      border-radius: 50%;\n",
              "      cursor: pointer;\n",
              "      display: none;\n",
              "      fill: #1967D2;\n",
              "      height: 32px;\n",
              "      padding: 0 0 0 0;\n",
              "      width: 32px;\n",
              "    }\n",
              "\n",
              "    .colab-df-convert:hover {\n",
              "      background-color: #E2EBFA;\n",
              "      box-shadow: 0px 1px 2px rgba(60, 64, 67, 0.3), 0px 1px 3px 1px rgba(60, 64, 67, 0.15);\n",
              "      fill: #174EA6;\n",
              "    }\n",
              "\n",
              "    .colab-df-buttons div {\n",
              "      margin-bottom: 4px;\n",
              "    }\n",
              "\n",
              "    [theme=dark] .colab-df-convert {\n",
              "      background-color: #3B4455;\n",
              "      fill: #D2E3FC;\n",
              "    }\n",
              "\n",
              "    [theme=dark] .colab-df-convert:hover {\n",
              "      background-color: #434B5C;\n",
              "      box-shadow: 0px 1px 3px 1px rgba(0, 0, 0, 0.15);\n",
              "      filter: drop-shadow(0px 1px 2px rgba(0, 0, 0, 0.3));\n",
              "      fill: #FFFFFF;\n",
              "    }\n",
              "  </style>\n",
              "\n",
              "    <script>\n",
              "      const buttonEl =\n",
              "        document.querySelector('#df-e61f992b-274b-4461-b5a0-61df4c09786b button.colab-df-convert');\n",
              "      buttonEl.style.display =\n",
              "        google.colab.kernel.accessAllowed ? 'block' : 'none';\n",
              "\n",
              "      async function convertToInteractive(key) {\n",
              "        const element = document.querySelector('#df-e61f992b-274b-4461-b5a0-61df4c09786b');\n",
              "        const dataTable =\n",
              "          await google.colab.kernel.invokeFunction('convertToInteractive',\n",
              "                                                    [key], {});\n",
              "        if (!dataTable) return;\n",
              "\n",
              "        const docLinkHtml = 'Like what you see? Visit the ' +\n",
              "          '<a target=\"_blank\" href=https://colab.research.google.com/notebooks/data_table.ipynb>data table notebook</a>'\n",
              "          + ' to learn more about interactive tables.';\n",
              "        element.innerHTML = '';\n",
              "        dataTable['output_type'] = 'display_data';\n",
              "        await google.colab.output.renderOutput(dataTable, element);\n",
              "        const docLink = document.createElement('div');\n",
              "        docLink.innerHTML = docLinkHtml;\n",
              "        element.appendChild(docLink);\n",
              "      }\n",
              "    </script>\n",
              "  </div>\n",
              "\n",
              "\n",
              "    <div id=\"df-4e7cea4e-e4ed-48ba-977a-011416ac9c68\">\n",
              "      <button class=\"colab-df-quickchart\" onclick=\"quickchart('df-4e7cea4e-e4ed-48ba-977a-011416ac9c68')\"\n",
              "                title=\"Suggest charts\"\n",
              "                style=\"display:none;\">\n",
              "\n",
              "<svg xmlns=\"http://www.w3.org/2000/svg\" height=\"24px\"viewBox=\"0 0 24 24\"\n",
              "     width=\"24px\">\n",
              "    <g>\n",
              "        <path d=\"M19 3H5c-1.1 0-2 .9-2 2v14c0 1.1.9 2 2 2h14c1.1 0 2-.9 2-2V5c0-1.1-.9-2-2-2zM9 17H7v-7h2v7zm4 0h-2V7h2v10zm4 0h-2v-4h2v4z\"/>\n",
              "    </g>\n",
              "</svg>\n",
              "      </button>\n",
              "\n",
              "<style>\n",
              "  .colab-df-quickchart {\n",
              "      --bg-color: #E8F0FE;\n",
              "      --fill-color: #1967D2;\n",
              "      --hover-bg-color: #E2EBFA;\n",
              "      --hover-fill-color: #174EA6;\n",
              "      --disabled-fill-color: #AAA;\n",
              "      --disabled-bg-color: #DDD;\n",
              "  }\n",
              "\n",
              "  [theme=dark] .colab-df-quickchart {\n",
              "      --bg-color: #3B4455;\n",
              "      --fill-color: #D2E3FC;\n",
              "      --hover-bg-color: #434B5C;\n",
              "      --hover-fill-color: #FFFFFF;\n",
              "      --disabled-bg-color: #3B4455;\n",
              "      --disabled-fill-color: #666;\n",
              "  }\n",
              "\n",
              "  .colab-df-quickchart {\n",
              "    background-color: var(--bg-color);\n",
              "    border: none;\n",
              "    border-radius: 50%;\n",
              "    cursor: pointer;\n",
              "    display: none;\n",
              "    fill: var(--fill-color);\n",
              "    height: 32px;\n",
              "    padding: 0;\n",
              "    width: 32px;\n",
              "  }\n",
              "\n",
              "  .colab-df-quickchart:hover {\n",
              "    background-color: var(--hover-bg-color);\n",
              "    box-shadow: 0 1px 2px rgba(60, 64, 67, 0.3), 0 1px 3px 1px rgba(60, 64, 67, 0.15);\n",
              "    fill: var(--button-hover-fill-color);\n",
              "  }\n",
              "\n",
              "  .colab-df-quickchart-complete:disabled,\n",
              "  .colab-df-quickchart-complete:disabled:hover {\n",
              "    background-color: var(--disabled-bg-color);\n",
              "    fill: var(--disabled-fill-color);\n",
              "    box-shadow: none;\n",
              "  }\n",
              "\n",
              "  .colab-df-spinner {\n",
              "    border: 2px solid var(--fill-color);\n",
              "    border-color: transparent;\n",
              "    border-bottom-color: var(--fill-color);\n",
              "    animation:\n",
              "      spin 1s steps(1) infinite;\n",
              "  }\n",
              "\n",
              "  @keyframes spin {\n",
              "    0% {\n",
              "      border-color: transparent;\n",
              "      border-bottom-color: var(--fill-color);\n",
              "      border-left-color: var(--fill-color);\n",
              "    }\n",
              "    20% {\n",
              "      border-color: transparent;\n",
              "      border-left-color: var(--fill-color);\n",
              "      border-top-color: var(--fill-color);\n",
              "    }\n",
              "    30% {\n",
              "      border-color: transparent;\n",
              "      border-left-color: var(--fill-color);\n",
              "      border-top-color: var(--fill-color);\n",
              "      border-right-color: var(--fill-color);\n",
              "    }\n",
              "    40% {\n",
              "      border-color: transparent;\n",
              "      border-right-color: var(--fill-color);\n",
              "      border-top-color: var(--fill-color);\n",
              "    }\n",
              "    60% {\n",
              "      border-color: transparent;\n",
              "      border-right-color: var(--fill-color);\n",
              "    }\n",
              "    80% {\n",
              "      border-color: transparent;\n",
              "      border-right-color: var(--fill-color);\n",
              "      border-bottom-color: var(--fill-color);\n",
              "    }\n",
              "    90% {\n",
              "      border-color: transparent;\n",
              "      border-bottom-color: var(--fill-color);\n",
              "    }\n",
              "  }\n",
              "</style>\n",
              "\n",
              "      <script>\n",
              "        async function quickchart(key) {\n",
              "          const quickchartButtonEl =\n",
              "            document.querySelector('#' + key + ' button');\n",
              "          quickchartButtonEl.disabled = true;  // To prevent multiple clicks.\n",
              "          quickchartButtonEl.classList.add('colab-df-spinner');\n",
              "          try {\n",
              "            const charts = await google.colab.kernel.invokeFunction(\n",
              "                'suggestCharts', [key], {});\n",
              "          } catch (error) {\n",
              "            console.error('Error during call to suggestCharts:', error);\n",
              "          }\n",
              "          quickchartButtonEl.classList.remove('colab-df-spinner');\n",
              "          quickchartButtonEl.classList.add('colab-df-quickchart-complete');\n",
              "        }\n",
              "        (() => {\n",
              "          let quickchartButtonEl =\n",
              "            document.querySelector('#df-4e7cea4e-e4ed-48ba-977a-011416ac9c68 button');\n",
              "          quickchartButtonEl.style.display =\n",
              "            google.colab.kernel.accessAllowed ? 'block' : 'none';\n",
              "        })();\n",
              "      </script>\n",
              "    </div>\n",
              "\n",
              "  <div id=\"id_8e6ac78f-69a4-42e5-bcf5-ade8881d318a\">\n",
              "    <style>\n",
              "      .colab-df-generate {\n",
              "        background-color: #E8F0FE;\n",
              "        border: none;\n",
              "        border-radius: 50%;\n",
              "        cursor: pointer;\n",
              "        display: none;\n",
              "        fill: #1967D2;\n",
              "        height: 32px;\n",
              "        padding: 0 0 0 0;\n",
              "        width: 32px;\n",
              "      }\n",
              "\n",
              "      .colab-df-generate:hover {\n",
              "        background-color: #E2EBFA;\n",
              "        box-shadow: 0px 1px 2px rgba(60, 64, 67, 0.3), 0px 1px 3px 1px rgba(60, 64, 67, 0.15);\n",
              "        fill: #174EA6;\n",
              "      }\n",
              "\n",
              "      [theme=dark] .colab-df-generate {\n",
              "        background-color: #3B4455;\n",
              "        fill: #D2E3FC;\n",
              "      }\n",
              "\n",
              "      [theme=dark] .colab-df-generate:hover {\n",
              "        background-color: #434B5C;\n",
              "        box-shadow: 0px 1px 3px 1px rgba(0, 0, 0, 0.15);\n",
              "        filter: drop-shadow(0px 1px 2px rgba(0, 0, 0, 0.3));\n",
              "        fill: #FFFFFF;\n",
              "      }\n",
              "    </style>\n",
              "    <button class=\"colab-df-generate\" onclick=\"generateWithVariable('result')\"\n",
              "            title=\"Generate code using this dataframe.\"\n",
              "            style=\"display:none;\">\n",
              "\n",
              "  <svg xmlns=\"http://www.w3.org/2000/svg\" height=\"24px\"viewBox=\"0 0 24 24\"\n",
              "       width=\"24px\">\n",
              "    <path d=\"M7,19H8.4L18.45,9,17,7.55,7,17.6ZM5,21V16.75L18.45,3.32a2,2,0,0,1,2.83,0l1.4,1.43a1.91,1.91,0,0,1,.58,1.4,1.91,1.91,0,0,1-.58,1.4L9.25,21ZM18.45,9,17,7.55Zm-12,3A5.31,5.31,0,0,0,4.9,8.1,5.31,5.31,0,0,0,1,6.5,5.31,5.31,0,0,0,4.9,4.9,5.31,5.31,0,0,0,6.5,1,5.31,5.31,0,0,0,8.1,4.9,5.31,5.31,0,0,0,12,6.5,5.46,5.46,0,0,0,6.5,12Z\"/>\n",
              "  </svg>\n",
              "    </button>\n",
              "    <script>\n",
              "      (() => {\n",
              "      const buttonEl =\n",
              "        document.querySelector('#id_8e6ac78f-69a4-42e5-bcf5-ade8881d318a button.colab-df-generate');\n",
              "      buttonEl.style.display =\n",
              "        google.colab.kernel.accessAllowed ? 'block' : 'none';\n",
              "\n",
              "      buttonEl.onclick = () => {\n",
              "        google.colab.notebook.generateWithVariable('result');\n",
              "      }\n",
              "      })();\n",
              "    </script>\n",
              "  </div>\n",
              "\n",
              "    </div>\n",
              "  </div>\n"
            ],
            "text/plain": [
              "   Test #   Average\n",
              "0       1  0.609055\n",
              "1       2  0.608622\n",
              "2       3  0.607627\n",
              "3       4  0.607877\n",
              "4       5  0.608843"
            ]
          },
          "execution_count": 12,
          "metadata": {},
          "output_type": "execute_result"
        }
      ],
      "source": [
        "def simulation(num_tests, num_trials):\n",
        "    k = num_tests\n",
        "    n = num_trials\n",
        "\n",
        "    tests = list(range(1, k + 1))\n",
        "    averages = []\n",
        "\n",
        "    for _ in tests:\n",
        "        total_single_riders = sum(fill_ride() for i in range(n))\n",
        "        average = total_single_riders / num_trials\n",
        "        averages.append(average)\n",
        "\n",
        "    df = pd.DataFrame({ \"Test #\": tests, \"Average\": averages })\n",
        "\n",
        "    return df\n",
        "\n",
        "result = simulation(5, 1000000)\n",
        "result"
      ]
    },
    {
      "cell_type": "code",
      "execution_count": null,
      "metadata": {
        "colab": {
          "background_save": true
        },
        "id": "8l1PvdOkXtA4",
        "outputId": "31d52c83-bd6f-4285-d3f7-92c85ebd556b"
      },
      "outputs": [
        {
          "data": {
            "text/plain": [
              "0.6084048000000001"
            ]
          },
          "execution_count": 13,
          "metadata": {},
          "output_type": "execute_result"
        }
      ],
      "source": [
        "x = sum(result['Average']) / len(result['Average'])\n",
        "x"
      ]
    },
    {
      "cell_type": "code",
      "execution_count": null,
      "metadata": {
        "colab": {
          "background_save": true
        },
        "id": "fK-U3P9lXusJ",
        "outputId": "94ad0463-05c7-473c-b880-0d2ca9f7a487"
      },
      "outputs": [
        {
          "name": "stdout",
          "output_type": "stream",
          "text": [
            "The single rider line processes an estimated 1.2168 guests per minute.\n"
          ]
        }
      ],
      "source": [
        "rides_per_min = 2\n",
        "\n",
        "# Single Rider Line Throughput (measured in single riders per minute)\n",
        "sr_throughput = x * rides_per_min\n",
        "print(\"The single rider line processes an estimated\", round(sr_throughput,4) , \"guests per minute.\")\n"
      ]
    },
    {
      "cell_type": "markdown",
      "metadata": {
        "id": "ls6pRLUmXw5q"
      },
      "source": [
        "## Final Result\n",
        "\n",
        "Upon computing the throughput rate of the single rider line, I can determine the expected wait time by dividing the queue length by the throughput rate. Below is a table depicting the expected wait time for various queue lengths."
      ]
    },
    {
      "cell_type": "code",
      "execution_count": null,
      "metadata": {
        "colab": {
          "background_save": true
        },
        "id": "6UaZ8dLYXyw8",
        "outputId": "7de90698-6291-4dfd-d3a2-888e1974f68c"
      },
      "outputs": [
        {
          "data": {
            "application/vnd.google.colaboratory.intrinsic+json": {
              "summary": "{\n  \"name\": \"df\",\n  \"rows\": 10,\n  \"fields\": [\n    {\n      \"column\": \"Queue Length\",\n      \"properties\": {\n        \"dtype\": \"number\",\n        \"std\": 30,\n        \"min\": 10,\n        \"max\": 100,\n        \"num_unique_values\": 10,\n        \"samples\": [\n          90,\n          20,\n          60\n        ],\n        \"semantic_type\": \"\",\n        \"description\": \"\"\n      }\n    },\n    {\n      \"column\": \"Wait Time (Minutes)\",\n      \"properties\": {\n        \"dtype\": \"number\",\n        \"std\": 24.881874321976845,\n        \"min\": 8.21821261107736,\n        \"max\": 82.18212611077361,\n        \"num_unique_values\": 10,\n        \"samples\": [\n          73.96391349969625,\n          16.43642522215472,\n          49.30927566646417\n        ],\n        \"semantic_type\": \"\",\n        \"description\": \"\"\n      }\n    }\n  ]\n}",
              "type": "dataframe",
              "variable_name": "df"
            },
            "text/html": [
              "\n",
              "  <div id=\"df-62bbb02f-178b-49df-9319-317639104dba\" class=\"colab-df-container\">\n",
              "    <div>\n",
              "<style scoped>\n",
              "    .dataframe tbody tr th:only-of-type {\n",
              "        vertical-align: middle;\n",
              "    }\n",
              "\n",
              "    .dataframe tbody tr th {\n",
              "        vertical-align: top;\n",
              "    }\n",
              "\n",
              "    .dataframe thead th {\n",
              "        text-align: right;\n",
              "    }\n",
              "</style>\n",
              "<table border=\"1\" class=\"dataframe\">\n",
              "  <thead>\n",
              "    <tr style=\"text-align: right;\">\n",
              "      <th></th>\n",
              "      <th>Queue Length</th>\n",
              "      <th>Wait Time (Minutes)</th>\n",
              "    </tr>\n",
              "  </thead>\n",
              "  <tbody>\n",
              "    <tr>\n",
              "      <th>0</th>\n",
              "      <td>10</td>\n",
              "      <td>8.218213</td>\n",
              "    </tr>\n",
              "    <tr>\n",
              "      <th>1</th>\n",
              "      <td>20</td>\n",
              "      <td>16.436425</td>\n",
              "    </tr>\n",
              "    <tr>\n",
              "      <th>2</th>\n",
              "      <td>30</td>\n",
              "      <td>24.654638</td>\n",
              "    </tr>\n",
              "    <tr>\n",
              "      <th>3</th>\n",
              "      <td>40</td>\n",
              "      <td>32.872850</td>\n",
              "    </tr>\n",
              "    <tr>\n",
              "      <th>4</th>\n",
              "      <td>50</td>\n",
              "      <td>41.091063</td>\n",
              "    </tr>\n",
              "    <tr>\n",
              "      <th>5</th>\n",
              "      <td>60</td>\n",
              "      <td>49.309276</td>\n",
              "    </tr>\n",
              "    <tr>\n",
              "      <th>6</th>\n",
              "      <td>70</td>\n",
              "      <td>57.527488</td>\n",
              "    </tr>\n",
              "    <tr>\n",
              "      <th>7</th>\n",
              "      <td>80</td>\n",
              "      <td>65.745701</td>\n",
              "    </tr>\n",
              "    <tr>\n",
              "      <th>8</th>\n",
              "      <td>90</td>\n",
              "      <td>73.963913</td>\n",
              "    </tr>\n",
              "    <tr>\n",
              "      <th>9</th>\n",
              "      <td>100</td>\n",
              "      <td>82.182126</td>\n",
              "    </tr>\n",
              "  </tbody>\n",
              "</table>\n",
              "</div>\n",
              "    <div class=\"colab-df-buttons\">\n",
              "\n",
              "  <div class=\"colab-df-container\">\n",
              "    <button class=\"colab-df-convert\" onclick=\"convertToInteractive('df-62bbb02f-178b-49df-9319-317639104dba')\"\n",
              "            title=\"Convert this dataframe to an interactive table.\"\n",
              "            style=\"display:none;\">\n",
              "\n",
              "  <svg xmlns=\"http://www.w3.org/2000/svg\" height=\"24px\" viewBox=\"0 -960 960 960\">\n",
              "    <path d=\"M120-120v-720h720v720H120Zm60-500h600v-160H180v160Zm220 220h160v-160H400v160Zm0 220h160v-160H400v160ZM180-400h160v-160H180v160Zm440 0h160v-160H620v160ZM180-180h160v-160H180v160Zm440 0h160v-160H620v160Z\"/>\n",
              "  </svg>\n",
              "    </button>\n",
              "\n",
              "  <style>\n",
              "    .colab-df-container {\n",
              "      display:flex;\n",
              "      gap: 12px;\n",
              "    }\n",
              "\n",
              "    .colab-df-convert {\n",
              "      background-color: #E8F0FE;\n",
              "      border: none;\n",
              "      border-radius: 50%;\n",
              "      cursor: pointer;\n",
              "      display: none;\n",
              "      fill: #1967D2;\n",
              "      height: 32px;\n",
              "      padding: 0 0 0 0;\n",
              "      width: 32px;\n",
              "    }\n",
              "\n",
              "    .colab-df-convert:hover {\n",
              "      background-color: #E2EBFA;\n",
              "      box-shadow: 0px 1px 2px rgba(60, 64, 67, 0.3), 0px 1px 3px 1px rgba(60, 64, 67, 0.15);\n",
              "      fill: #174EA6;\n",
              "    }\n",
              "\n",
              "    .colab-df-buttons div {\n",
              "      margin-bottom: 4px;\n",
              "    }\n",
              "\n",
              "    [theme=dark] .colab-df-convert {\n",
              "      background-color: #3B4455;\n",
              "      fill: #D2E3FC;\n",
              "    }\n",
              "\n",
              "    [theme=dark] .colab-df-convert:hover {\n",
              "      background-color: #434B5C;\n",
              "      box-shadow: 0px 1px 3px 1px rgba(0, 0, 0, 0.15);\n",
              "      filter: drop-shadow(0px 1px 2px rgba(0, 0, 0, 0.3));\n",
              "      fill: #FFFFFF;\n",
              "    }\n",
              "  </style>\n",
              "\n",
              "    <script>\n",
              "      const buttonEl =\n",
              "        document.querySelector('#df-62bbb02f-178b-49df-9319-317639104dba button.colab-df-convert');\n",
              "      buttonEl.style.display =\n",
              "        google.colab.kernel.accessAllowed ? 'block' : 'none';\n",
              "\n",
              "      async function convertToInteractive(key) {\n",
              "        const element = document.querySelector('#df-62bbb02f-178b-49df-9319-317639104dba');\n",
              "        const dataTable =\n",
              "          await google.colab.kernel.invokeFunction('convertToInteractive',\n",
              "                                                    [key], {});\n",
              "        if (!dataTable) return;\n",
              "\n",
              "        const docLinkHtml = 'Like what you see? Visit the ' +\n",
              "          '<a target=\"_blank\" href=https://colab.research.google.com/notebooks/data_table.ipynb>data table notebook</a>'\n",
              "          + ' to learn more about interactive tables.';\n",
              "        element.innerHTML = '';\n",
              "        dataTable['output_type'] = 'display_data';\n",
              "        await google.colab.output.renderOutput(dataTable, element);\n",
              "        const docLink = document.createElement('div');\n",
              "        docLink.innerHTML = docLinkHtml;\n",
              "        element.appendChild(docLink);\n",
              "      }\n",
              "    </script>\n",
              "  </div>\n",
              "\n",
              "\n",
              "    <div id=\"df-a4152a2b-5bdb-4981-9ca4-853459403f5b\">\n",
              "      <button class=\"colab-df-quickchart\" onclick=\"quickchart('df-a4152a2b-5bdb-4981-9ca4-853459403f5b')\"\n",
              "                title=\"Suggest charts\"\n",
              "                style=\"display:none;\">\n",
              "\n",
              "<svg xmlns=\"http://www.w3.org/2000/svg\" height=\"24px\"viewBox=\"0 0 24 24\"\n",
              "     width=\"24px\">\n",
              "    <g>\n",
              "        <path d=\"M19 3H5c-1.1 0-2 .9-2 2v14c0 1.1.9 2 2 2h14c1.1 0 2-.9 2-2V5c0-1.1-.9-2-2-2zM9 17H7v-7h2v7zm4 0h-2V7h2v10zm4 0h-2v-4h2v4z\"/>\n",
              "    </g>\n",
              "</svg>\n",
              "      </button>\n",
              "\n",
              "<style>\n",
              "  .colab-df-quickchart {\n",
              "      --bg-color: #E8F0FE;\n",
              "      --fill-color: #1967D2;\n",
              "      --hover-bg-color: #E2EBFA;\n",
              "      --hover-fill-color: #174EA6;\n",
              "      --disabled-fill-color: #AAA;\n",
              "      --disabled-bg-color: #DDD;\n",
              "  }\n",
              "\n",
              "  [theme=dark] .colab-df-quickchart {\n",
              "      --bg-color: #3B4455;\n",
              "      --fill-color: #D2E3FC;\n",
              "      --hover-bg-color: #434B5C;\n",
              "      --hover-fill-color: #FFFFFF;\n",
              "      --disabled-bg-color: #3B4455;\n",
              "      --disabled-fill-color: #666;\n",
              "  }\n",
              "\n",
              "  .colab-df-quickchart {\n",
              "    background-color: var(--bg-color);\n",
              "    border: none;\n",
              "    border-radius: 50%;\n",
              "    cursor: pointer;\n",
              "    display: none;\n",
              "    fill: var(--fill-color);\n",
              "    height: 32px;\n",
              "    padding: 0;\n",
              "    width: 32px;\n",
              "  }\n",
              "\n",
              "  .colab-df-quickchart:hover {\n",
              "    background-color: var(--hover-bg-color);\n",
              "    box-shadow: 0 1px 2px rgba(60, 64, 67, 0.3), 0 1px 3px 1px rgba(60, 64, 67, 0.15);\n",
              "    fill: var(--button-hover-fill-color);\n",
              "  }\n",
              "\n",
              "  .colab-df-quickchart-complete:disabled,\n",
              "  .colab-df-quickchart-complete:disabled:hover {\n",
              "    background-color: var(--disabled-bg-color);\n",
              "    fill: var(--disabled-fill-color);\n",
              "    box-shadow: none;\n",
              "  }\n",
              "\n",
              "  .colab-df-spinner {\n",
              "    border: 2px solid var(--fill-color);\n",
              "    border-color: transparent;\n",
              "    border-bottom-color: var(--fill-color);\n",
              "    animation:\n",
              "      spin 1s steps(1) infinite;\n",
              "  }\n",
              "\n",
              "  @keyframes spin {\n",
              "    0% {\n",
              "      border-color: transparent;\n",
              "      border-bottom-color: var(--fill-color);\n",
              "      border-left-color: var(--fill-color);\n",
              "    }\n",
              "    20% {\n",
              "      border-color: transparent;\n",
              "      border-left-color: var(--fill-color);\n",
              "      border-top-color: var(--fill-color);\n",
              "    }\n",
              "    30% {\n",
              "      border-color: transparent;\n",
              "      border-left-color: var(--fill-color);\n",
              "      border-top-color: var(--fill-color);\n",
              "      border-right-color: var(--fill-color);\n",
              "    }\n",
              "    40% {\n",
              "      border-color: transparent;\n",
              "      border-right-color: var(--fill-color);\n",
              "      border-top-color: var(--fill-color);\n",
              "    }\n",
              "    60% {\n",
              "      border-color: transparent;\n",
              "      border-right-color: var(--fill-color);\n",
              "    }\n",
              "    80% {\n",
              "      border-color: transparent;\n",
              "      border-right-color: var(--fill-color);\n",
              "      border-bottom-color: var(--fill-color);\n",
              "    }\n",
              "    90% {\n",
              "      border-color: transparent;\n",
              "      border-bottom-color: var(--fill-color);\n",
              "    }\n",
              "  }\n",
              "</style>\n",
              "\n",
              "      <script>\n",
              "        async function quickchart(key) {\n",
              "          const quickchartButtonEl =\n",
              "            document.querySelector('#' + key + ' button');\n",
              "          quickchartButtonEl.disabled = true;  // To prevent multiple clicks.\n",
              "          quickchartButtonEl.classList.add('colab-df-spinner');\n",
              "          try {\n",
              "            const charts = await google.colab.kernel.invokeFunction(\n",
              "                'suggestCharts', [key], {});\n",
              "          } catch (error) {\n",
              "            console.error('Error during call to suggestCharts:', error);\n",
              "          }\n",
              "          quickchartButtonEl.classList.remove('colab-df-spinner');\n",
              "          quickchartButtonEl.classList.add('colab-df-quickchart-complete');\n",
              "        }\n",
              "        (() => {\n",
              "          let quickchartButtonEl =\n",
              "            document.querySelector('#df-a4152a2b-5bdb-4981-9ca4-853459403f5b button');\n",
              "          quickchartButtonEl.style.display =\n",
              "            google.colab.kernel.accessAllowed ? 'block' : 'none';\n",
              "        })();\n",
              "      </script>\n",
              "    </div>\n",
              "\n",
              "  <div id=\"id_6b295244-b62f-4c99-a816-72ca73ab23a6\">\n",
              "    <style>\n",
              "      .colab-df-generate {\n",
              "        background-color: #E8F0FE;\n",
              "        border: none;\n",
              "        border-radius: 50%;\n",
              "        cursor: pointer;\n",
              "        display: none;\n",
              "        fill: #1967D2;\n",
              "        height: 32px;\n",
              "        padding: 0 0 0 0;\n",
              "        width: 32px;\n",
              "      }\n",
              "\n",
              "      .colab-df-generate:hover {\n",
              "        background-color: #E2EBFA;\n",
              "        box-shadow: 0px 1px 2px rgba(60, 64, 67, 0.3), 0px 1px 3px 1px rgba(60, 64, 67, 0.15);\n",
              "        fill: #174EA6;\n",
              "      }\n",
              "\n",
              "      [theme=dark] .colab-df-generate {\n",
              "        background-color: #3B4455;\n",
              "        fill: #D2E3FC;\n",
              "      }\n",
              "\n",
              "      [theme=dark] .colab-df-generate:hover {\n",
              "        background-color: #434B5C;\n",
              "        box-shadow: 0px 1px 3px 1px rgba(0, 0, 0, 0.15);\n",
              "        filter: drop-shadow(0px 1px 2px rgba(0, 0, 0, 0.3));\n",
              "        fill: #FFFFFF;\n",
              "      }\n",
              "    </style>\n",
              "    <button class=\"colab-df-generate\" onclick=\"generateWithVariable('df')\"\n",
              "            title=\"Generate code using this dataframe.\"\n",
              "            style=\"display:none;\">\n",
              "\n",
              "  <svg xmlns=\"http://www.w3.org/2000/svg\" height=\"24px\"viewBox=\"0 0 24 24\"\n",
              "       width=\"24px\">\n",
              "    <path d=\"M7,19H8.4L18.45,9,17,7.55,7,17.6ZM5,21V16.75L18.45,3.32a2,2,0,0,1,2.83,0l1.4,1.43a1.91,1.91,0,0,1,.58,1.4,1.91,1.91,0,0,1-.58,1.4L9.25,21ZM18.45,9,17,7.55Zm-12,3A5.31,5.31,0,0,0,4.9,8.1,5.31,5.31,0,0,0,1,6.5,5.31,5.31,0,0,0,4.9,4.9,5.31,5.31,0,0,0,6.5,1,5.31,5.31,0,0,0,8.1,4.9,5.31,5.31,0,0,0,12,6.5,5.46,5.46,0,0,0,6.5,12Z\"/>\n",
              "  </svg>\n",
              "    </button>\n",
              "    <script>\n",
              "      (() => {\n",
              "      const buttonEl =\n",
              "        document.querySelector('#id_6b295244-b62f-4c99-a816-72ca73ab23a6 button.colab-df-generate');\n",
              "      buttonEl.style.display =\n",
              "        google.colab.kernel.accessAllowed ? 'block' : 'none';\n",
              "\n",
              "      buttonEl.onclick = () => {\n",
              "        google.colab.notebook.generateWithVariable('df');\n",
              "      }\n",
              "      })();\n",
              "    </script>\n",
              "  </div>\n",
              "\n",
              "    </div>\n",
              "  </div>\n"
            ],
            "text/plain": [
              "   Queue Length  Wait Time (Minutes)\n",
              "0            10             8.218213\n",
              "1            20            16.436425\n",
              "2            30            24.654638\n",
              "3            40            32.872850\n",
              "4            50            41.091063\n",
              "5            60            49.309276\n",
              "6            70            57.527488\n",
              "7            80            65.745701\n",
              "8            90            73.963913\n",
              "9           100            82.182126"
            ]
          },
          "execution_count": 15,
          "metadata": {},
          "output_type": "execute_result"
        }
      ],
      "source": [
        "intervals = np.array([10, 20, 30, 40, 50, 60, 70, 80, 90, 100])\n",
        "wait_times = intervals / sr_throughput\n",
        "\n",
        "df = pd.DataFrame({ \"Queue Length\": intervals, \"Wait Time (Minutes)\": wait_times })\n",
        "df"
      ]
    }
  ],
  "metadata": {
    "colab": {
      "provenance": []
    },
    "kernelspec": {
      "display_name": "Python 3",
      "name": "python3"
    },
    "language_info": {
      "name": "python"
    }
  },
  "nbformat": 4,
  "nbformat_minor": 0
}